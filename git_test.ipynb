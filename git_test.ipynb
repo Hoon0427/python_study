{
 "cells": [
  {
   "cell_type": "markdown",
   "metadata": {},
   "source": [
    "print(\"git_test\")"
   ]
  },
  {
   "cell_type": "markdown",
   "metadata": {},
   "source": [
    "# 모듈을 알아보자\n",
    "모듈이란 블라브라브라\n",
    "\n",
    "## 1. 모듈 생성\\\\\\\\\\\\\n"
   ]
  },
  {
   "cell_type": "code",
   "execution_count": 5,
   "metadata": {},
   "outputs": [],
   "source": [
    "import os"
   ]
  },
  {
   "cell_type": "markdown",
   "metadata": {},
   "source": [
    "## 2.모듈 적용\n"
   ]
  },
  {
   "cell_type": "code",
   "execution_count": 6,
   "metadata": {},
   "outputs": [
    {
     "name": "stdout",
     "output_type": "stream",
     "text": [
      "x y z\n",
      "x1 y1 z1\n",
      "x1 y1 z2\n",
      "x1 y1 z3\n",
      "x1 y2 z1\n",
      "x1 y2 z2\n",
      "x1 y2 z3\n",
      "x1 y3 z1\n",
      "x1 y3 z2\n",
      "x1 y3 z3\n",
      "x2 y1 z1\n",
      "x2 y1 z2\n",
      "x2 y1 z3\n",
      "x2 y2 z1\n",
      "x2 y2 z2\n",
      "x2 y2 z3\n",
      "x2 y3 z1\n",
      "x2 y3 z2\n",
      "x2 y3 z3\n",
      "x3 y1 z1\n",
      "x3 y1 z2\n",
      "x3 y1 z3\n",
      "x3 y2 z1\n",
      "x3 y2 z2\n",
      "x3 y2 z3\n",
      "x3 y3 z1\n",
      "x3 y3 z2\n",
      "x3 y3 z3\n"
     ]
    }
   ],
   "source": [
    "x_list=['x1','x2','x3']\n",
    "y_list=['y1','y2','y3']\n",
    "z_list=['z1','z2','z3']\n",
    "\n",
    "print(\"x y z\")\n",
    "for x in x_list:\n",
    "    for y in y_list:\n",
    "        for z in z_list:\n",
    "            print(x,y,z)"
   ]
  },
  {
   "cell_type": "code",
   "execution_count": 7,
   "metadata": {},
   "outputs": [
    {
     "name": "stdout",
     "output_type": "stream",
     "text": [
      "x,y,z\n",
      "x1 y1 z1\n",
      "x1 y1 z2\n",
      "x1 y1 z3\n",
      "x1 y2 z1\n",
      "x1 y2 z2\n",
      "x1 y2 z3\n",
      "x1 y3 z1\n",
      "x1 y3 z2\n",
      "x1 y3 z3\n",
      "x2 y1 z1\n",
      "x2 y1 z2\n",
      "x2 y1 z3\n",
      "x2 y2 z1\n",
      "x2 y2 z2\n",
      "x2 y2 z3\n",
      "x2 y3 z1\n",
      "x2 y3 z2\n",
      "x2 y3 z3\n",
      "x3 y1 z1\n",
      "x3 y1 z2\n",
      "x3 y1 z3\n",
      "x3 y2 z1\n",
      "x3 y2 z2\n",
      "x3 y2 z3\n",
      "x3 y3 z1\n",
      "x3 y3 z2\n",
      "x3 y3 z3\n"
     ]
    }
   ],
   "source": [
    "x_list=['x1','x2','x3']\n",
    "y_list=['y1','y2','y3']\n",
    "z_list=['z1','z2','z3']\n",
    "\n",
    "print(\"x,y,z\")\n",
    "for x in x_list:\n",
    "    for y in y_list:\n",
    "        for z in z_list:\n",
    "            print(x,y,z)"
   ]
  },
  {
   "cell_type": "code",
   "execution_count": 11,
   "metadata": {},
   "outputs": [
    {
     "name": "stdout",
     "output_type": "stream",
     "text": [
      "James 95\n",
      "Robert 96\n",
      "Lisa 97\n",
      "Mary 94\n"
     ]
    },
    {
     "ename": "IndexError",
     "evalue": "list index out of range",
     "output_type": "error",
     "traceback": [
      "\u001b[1;31m---------------------------------------------------------------------------\u001b[0m",
      "\u001b[1;31mIndexError\u001b[0m                                Traceback (most recent call last)",
      "\u001b[1;32m<ipython-input-11-be0b4f9b508f>\u001b[0m in \u001b[0;36m<module>\u001b[1;34m\u001b[0m\n\u001b[0;32m      3\u001b[0m \u001b[1;33m\u001b[0m\u001b[0m\n\u001b[0;32m      4\u001b[0m \u001b[1;32mfor\u001b[0m \u001b[0mk\u001b[0m \u001b[1;32min\u001b[0m \u001b[0mrange\u001b[0m\u001b[1;33m(\u001b[0m\u001b[0mlen\u001b[0m\u001b[1;33m(\u001b[0m\u001b[0mnames\u001b[0m\u001b[1;33m)\u001b[0m\u001b[1;33m)\u001b[0m\u001b[1;33m:\u001b[0m\u001b[1;33m\u001b[0m\u001b[1;33m\u001b[0m\u001b[0m\n\u001b[1;32m----> 5\u001b[1;33m     \u001b[0mprint\u001b[0m\u001b[1;33m(\u001b[0m\u001b[0mnames\u001b[0m\u001b[1;33m[\u001b[0m\u001b[0mk\u001b[0m\u001b[1;33m]\u001b[0m\u001b[1;33m,\u001b[0m\u001b[0mscores\u001b[0m\u001b[1;33m[\u001b[0m\u001b[0mk\u001b[0m\u001b[1;33m]\u001b[0m\u001b[1;33m)\u001b[0m\u001b[1;33m\u001b[0m\u001b[1;33m\u001b[0m\u001b[0m\n\u001b[0m",
      "\u001b[1;31mIndexError\u001b[0m: list index out of range"
     ]
    }
   ],
   "source": [
    "names=['James','Robert','Lisa','Mary','Susan']\n",
    "scores=[95,96,97,94]\n",
    "\n",
    "for k in range(len(names)):\n",
    "    print(names[k],scores[k])"
   ]
  },
  {
   "cell_type": "code",
   "execution_count": 12,
   "metadata": {},
   "outputs": [
    {
     "name": "stdout",
     "output_type": "stream",
     "text": [
      "James 95\n",
      "Robert 96\n",
      "Lisa 97\n",
      "Mary 94\n",
      "Susan 92\n"
     ]
    }
   ],
   "source": [
    "names=['James','Robert','Lisa','Mary','Susan']\n",
    "scores=[95,96,97,94,92]\n",
    "\n",
    "for k in range(len(names)):\n",
    "    print(names[k],scores[k])"
   ]
  },
  {
   "cell_type": "code",
   "execution_count": 13,
   "metadata": {},
   "outputs": [
    {
     "name": "stdout",
     "output_type": "stream",
     "text": [
      "James 95\n",
      "Robert 96\n",
      "Lisa 97\n",
      "Mary 94\n"
     ]
    }
   ],
   "source": [
    "names=['James','Robert','Lisa','Mary']\n",
    "scores=[95,96,97,94,92]\n",
    "\n",
    "for k in range(len(names)):\n",
    "    print(names[k],scores[k])"
   ]
  },
  {
   "cell_type": "code",
   "execution_count": 14,
   "metadata": {},
   "outputs": [
    {
     "data": {
      "text/plain": [
       "4"
      ]
     },
     "execution_count": 14,
     "metadata": {},
     "output_type": "execute_result"
    }
   ],
   "source": [
    "len(names)"
   ]
  },
  {
   "cell_type": "code",
   "execution_count": 15,
   "metadata": {},
   "outputs": [
    {
     "data": {
      "text/plain": [
       "5"
      ]
     },
     "execution_count": 15,
     "metadata": {},
     "output_type": "execute_result"
    }
   ],
   "source": [
    "len(scores)"
   ]
  },
  {
   "cell_type": "code",
   "execution_count": null,
   "metadata": {},
   "outputs": [],
   "source": []
  }
 ],
 "metadata": {
  "kernelspec": {
   "display_name": "Python 3",
   "language": "python",
   "name": "python3"
  },
  "language_info": {
   "codemirror_mode": {
    "name": "ipython",
    "version": 3
   },
   "file_extension": ".py",
   "mimetype": "text/x-python",
   "name": "python",
   "nbconvert_exporter": "python",
   "pygments_lexer": "ipython3",
   "version": "3.7.4"
  }
 },
 "nbformat": 4,
 "nbformat_minor": 2
}
